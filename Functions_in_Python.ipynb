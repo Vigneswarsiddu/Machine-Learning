{
  "nbformat": 4,
  "nbformat_minor": 0,
  "metadata": {
    "colab": {
      "provenance": [],
      "authorship_tag": "ABX9TyP4d/ORVOOvy4mGUL2XktQ2",
      "include_colab_link": true
    },
    "kernelspec": {
      "name": "python3",
      "display_name": "Python 3"
    },
    "language_info": {
      "name": "python"
    }
  },
  "cells": [
    {
      "cell_type": "markdown",
      "metadata": {
        "id": "view-in-github",
        "colab_type": "text"
      },
      "source": [
        "<a href=\"https://colab.research.google.com/github/Vigneswarsiddu/Python-Basics-for-Machine-Learning/blob/main/Functions_in_Python.ipynb\" target=\"_parent\"><img src=\"https://colab.research.google.com/assets/colab-badge.svg\" alt=\"Open In Colab\"/></a>"
      ]
    },
    {
      "cell_type": "markdown",
      "source": [
        "**Author: K. VIGNESWAR SIDDU Email ID: vigneswarsiddu07@gmail.com**"
      ],
      "metadata": {
        "id": "-GTjz6BaMN_1"
      }
    },
    {
      "cell_type": "markdown",
      "source": [
        "Functions:\n",
        "\n",
        "Function is a block of code that can be reused in the program"
      ],
      "metadata": {
        "id": "GJDCENHUexnf"
      }
    },
    {
      "cell_type": "markdown",
      "source": [
        "Example:\n",
        "Write a program to print the factorial of a number\n",
        "\n",
        "5!=5x4x3x2x1"
      ],
      "metadata": {
        "id": "OAR_cp8ee_1R"
      }
    },
    {
      "cell_type": "code",
      "execution_count": 5,
      "metadata": {
        "colab": {
          "base_uri": "https://localhost:8080/"
        },
        "id": "hS1dUQKuehQF",
        "outputId": "25d28c32-35dd-4a0e-d9ce-e4c7d3268e96"
      },
      "outputs": [
        {
          "output_type": "stream",
          "name": "stdout",
          "text": [
            "Enter the number: 10\n",
            "The factorial of  10 is 3628800\n"
          ]
        }
      ],
      "source": [
        "# factorial is the product of all combinations of the number\n",
        "fact=int(input(\"Enter the number: \"))\n",
        "factorial=1\n",
        "if(fact==0):\n",
        "  print(\"The factorial of 0 is : 1\")\n",
        "else:\n",
        "  for i in range(1,fact+1):\n",
        "    factorial=factorial*i\n",
        "  print(\"The factorial of \",fact,\"is\",factorial)"
      ]
    },
    {
      "cell_type": "markdown",
      "source": [
        "Using Function"
      ],
      "metadata": {
        "id": "x6nmdsdGhqCW"
      }
    },
    {
      "cell_type": "code",
      "source": [
        "def factorial_value(number):\n",
        "  factorial=1\n",
        "  if(number==0):\n",
        "    return 1\n",
        "  else:\n",
        "    for i in range(1,number+1):\n",
        "      factorial=factorial*i\n",
        "    return factorial\n",
        "print(factorial_value(0))\n",
        "print(factorial_value(5))"
      ],
      "metadata": {
        "colab": {
          "base_uri": "https://localhost:8080/"
        },
        "id": "Sc9_TpcIhrfY",
        "outputId": "d539f9a7-d0ab-4a6b-a21f-00c09d4ba6fb"
      },
      "execution_count": 11,
      "outputs": [
        {
          "output_type": "stream",
          "name": "stdout",
          "text": [
            "1\n",
            "120\n"
          ]
        }
      ]
    }
  ]
}