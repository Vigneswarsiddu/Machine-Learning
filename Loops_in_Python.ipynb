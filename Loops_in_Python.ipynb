{
  "nbformat": 4,
  "nbformat_minor": 0,
  "metadata": {
    "colab": {
      "provenance": [],
      "authorship_tag": "ABX9TyPAqLvQeAznUn3k2O4WZ6uY",
      "include_colab_link": true
    },
    "kernelspec": {
      "name": "python3",
      "display_name": "Python 3"
    },
    "language_info": {
      "name": "python"
    }
  },
  "cells": [
    {
      "cell_type": "markdown",
      "metadata": {
        "id": "view-in-github",
        "colab_type": "text"
      },
      "source": [
        "<a href=\"https://colab.research.google.com/github/Vigneswarsiddu/Python-Basics-for-Machine-Learning/blob/main/Loops_in_Python.ipynb\" target=\"_parent\"><img src=\"https://colab.research.google.com/assets/colab-badge.svg\" alt=\"Open In Colab\"/></a>"
      ]
    },
    {
      "cell_type": "markdown",
      "source": [
        "**Author: K. VIGNESWAR SIDDU Email ID: vigneswarsiddu07@gmail.com**"
      ],
      "metadata": {
        "id": "-GTjz6BaMN_1"
      }
    },
    {
      "cell_type": "markdown",
      "source": [
        "For Loop"
      ],
      "metadata": {
        "id": "6k1cYEepZVJx"
      }
    },
    {
      "cell_type": "code",
      "execution_count": 1,
      "metadata": {
        "colab": {
          "base_uri": "https://localhost:8080/"
        },
        "id": "_hsGbw0cYe0C",
        "outputId": "6759ad62-e59e-4bb8-d98b-cf808de2624d"
      },
      "outputs": [
        {
          "name": "stdout",
          "output_type": "stream",
          "text": [
            "Enter price of the fruits: 20\n",
            "Enter price of the fruits: 30\n",
            "Enter price of the fruits: 40\n",
            "Enter price of the fruits: 50\n",
            "Enter price of the fruits: 60\n"
          ]
        }
      ],
      "source": [
        " #loop is used to repeat the certain action again & again\n",
        "\n",
        "for i in range(5): #0 1 2 3 4\n",
        "  fruits=int(input(\"Enter price of the fruits: \"))"
      ]
    },
    {
      "cell_type": "code",
      "source": [
        "# lets create set of list\n",
        "num=[1,2,3,4,5,6,7,8,9]\n",
        "for i in num:\n",
        "  print(i)"
      ],
      "metadata": {
        "colab": {
          "base_uri": "https://localhost:8080/"
        },
        "id": "WhQXY2bnaxsS",
        "outputId": "1bc293a0-cc80-4933-cbb5-5fd55a1070f1"
      },
      "execution_count": 2,
      "outputs": [
        {
          "output_type": "stream",
          "name": "stdout",
          "text": [
            "1\n",
            "2\n",
            "3\n",
            "4\n",
            "5\n",
            "6\n",
            "7\n",
            "8\n",
            "9\n"
          ]
        }
      ]
    },
    {
      "cell_type": "markdown",
      "source": [
        "While loop"
      ],
      "metadata": {
        "id": "SAYzDmrJbWjf"
      }
    },
    {
      "cell_type": "code",
      "source": [
        "# we will use while when we don't know how many times we need to run the action\n",
        "i=1\n",
        "while(i<10):\n",
        "  print(i)\n",
        "  i+=1"
      ],
      "metadata": {
        "colab": {
          "base_uri": "https://localhost:8080/"
        },
        "id": "nIy4zmPvbYYG",
        "outputId": "cb9777df-a817-40cc-cc3c-eb558e8b1359"
      },
      "execution_count": 4,
      "outputs": [
        {
          "output_type": "stream",
          "name": "stdout",
          "text": [
            "1\n",
            "2\n",
            "3\n",
            "4\n",
            "5\n",
            "6\n",
            "7\n",
            "8\n",
            "9\n"
          ]
        }
      ]
    },
    {
      "cell_type": "code",
      "source": [
        "i=5\n",
        "while(i<10):\n",
        "  print(i)\n",
        "  i+=1"
      ],
      "metadata": {
        "colab": {
          "base_uri": "https://localhost:8080/"
        },
        "id": "hxCo5aUbb7sB",
        "outputId": "a7891783-3c9c-4dfb-b3c9-1e8c46ff9d9c"
      },
      "execution_count": 8,
      "outputs": [
        {
          "output_type": "stream",
          "name": "stdout",
          "text": [
            "5\n",
            "6\n",
            "7\n",
            "8\n",
            "9\n"
          ]
        }
      ]
    }
  ]
}