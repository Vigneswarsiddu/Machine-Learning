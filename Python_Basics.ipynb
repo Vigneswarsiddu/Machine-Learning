{
  "nbformat": 4,
  "nbformat_minor": 0,
  "metadata": {
    "colab": {
      "provenance": [],
      "authorship_tag": "ABX9TyM8ge9cJHhGY/dE6M5mpm7c",
      "include_colab_link": true
    },
    "kernelspec": {
      "name": "python3",
      "display_name": "Python 3"
    },
    "language_info": {
      "name": "python"
    }
  },
  "cells": [
    {
      "cell_type": "markdown",
      "metadata": {
        "id": "view-in-github",
        "colab_type": "text"
      },
      "source": [
        "<a href=\"https://colab.research.google.com/github/Vigneswarsiddu/Python-Basics-for-Machine-Learning/blob/main/Python_Basics.ipynb\" target=\"_parent\"><img src=\"https://colab.research.google.com/assets/colab-badge.svg\" alt=\"Open In Colab\"/></a>"
      ]
    },
    {
      "cell_type": "markdown",
      "source": [
        "**Author: K. VIGNESWAR SIDDU**\n",
        "**Email ID: vigneswarsiddu07@gmail.com**"
      ],
      "metadata": {
        "id": "Oj1XziZV-Mqf"
      }
    },
    {
      "cell_type": "markdown",
      "source": [
        "Programming Languages Used for Machine Learning:\n",
        "1. Python\n",
        "2. R"
      ],
      "metadata": {
        "id": "oW6sBAez-eRP"
      }
    },
    {
      "cell_type": "markdown",
      "source": [
        "# print Function"
      ],
      "metadata": {
        "id": "jNJa6v3K-yZm"
      }
    },
    {
      "cell_type": "code",
      "execution_count": 1,
      "metadata": {
        "colab": {
          "base_uri": "https://localhost:8080/"
        },
        "id": "TezgwE6G98kY",
        "outputId": "1a90cd70-31c0-40e2-e835-29e0fe484c7b"
      },
      "outputs": [
        {
          "output_type": "stream",
          "name": "stdout",
          "text": [
            "Siddu is Doing python in Colaboratory\n"
          ]
        }
      ],
      "source": [
        "print(\"Siddu is Doing python in Colaboratory\")"
      ]
    },
    {
      "cell_type": "code",
      "source": [
        "print(\"Author:\" +\" Vigneswar\" + \" Siddu\")"
      ],
      "metadata": {
        "colab": {
          "base_uri": "https://localhost:8080/"
        },
        "id": "pswZIjJm_O0z",
        "outputId": "8be04b2b-d77d-43ab-f172-60ec573dccdc"
      },
      "execution_count": 4,
      "outputs": [
        {
          "output_type": "stream",
          "name": "stdout",
          "text": [
            "Author: Vigneswar Siddu\n"
          ]
        }
      ]
    },
    {
      "cell_type": "code",
      "source": [
        "print(7)"
      ],
      "metadata": {
        "colab": {
          "base_uri": "https://localhost:8080/"
        },
        "id": "-PKC2pun_gFr",
        "outputId": "77d5b363-04ce-4b8d-f50b-60bc33c593d9"
      },
      "execution_count": 6,
      "outputs": [
        {
          "output_type": "stream",
          "name": "stdout",
          "text": [
            "7\n"
          ]
        }
      ]
    },
    {
      "cell_type": "code",
      "source": [
        "print(4+3)"
      ],
      "metadata": {
        "colab": {
          "base_uri": "https://localhost:8080/"
        },
        "id": "qRL4Aq9D_mDm",
        "outputId": "ecaf3ba2-62bf-42fd-caed-c27bc1d9e0fc"
      },
      "execution_count": 7,
      "outputs": [
        {
          "output_type": "stream",
          "name": "stdout",
          "text": [
            "7\n"
          ]
        }
      ]
    },
    {
      "cell_type": "markdown",
      "source": [
        "# Basic data Types:\n",
        "1. int\n",
        "2. float\n",
        "3. str"
      ],
      "metadata": {
        "id": "ZKqi1GvQ_4mu"
      }
    },
    {
      "cell_type": "code",
      "source": [
        "type(8)"
      ],
      "metadata": {
        "colab": {
          "base_uri": "https://localhost:8080/"
        },
        "id": "RB68kvvjAGJ_",
        "outputId": "acf1a387-8050-4f36-f0c7-3756514ef5cb"
      },
      "execution_count": 8,
      "outputs": [
        {
          "output_type": "execute_result",
          "data": {
            "text/plain": [
              "int"
            ]
          },
          "metadata": {},
          "execution_count": 8
        }
      ]
    },
    {
      "cell_type": "code",
      "source": [
        "type(8.5)"
      ],
      "metadata": {
        "colab": {
          "base_uri": "https://localhost:8080/"
        },
        "id": "xAcTiHYbAQtX",
        "outputId": "601c60de-13ae-4ecc-ecb0-927382c1cdd6"
      },
      "execution_count": 9,
      "outputs": [
        {
          "output_type": "execute_result",
          "data": {
            "text/plain": [
              "float"
            ]
          },
          "metadata": {},
          "execution_count": 9
        }
      ]
    },
    {
      "cell_type": "code",
      "source": [
        "type(\"siddu\")"
      ],
      "metadata": {
        "colab": {
          "base_uri": "https://localhost:8080/"
        },
        "id": "wAYWWLoSATrX",
        "outputId": "99132d61-eee2-4191-b021-3617dd56604d"
      },
      "execution_count": 10,
      "outputs": [
        {
          "output_type": "execute_result",
          "data": {
            "text/plain": [
              "str"
            ]
          },
          "metadata": {},
          "execution_count": 10
        }
      ]
    },
    {
      "cell_type": "markdown",
      "source": [
        "# Constants & Variables"
      ],
      "metadata": {
        "id": "Gi8Oz3tyAfPQ"
      }
    },
    {
      "cell_type": "code",
      "source": [
        "Python=\"Python 3.8\"\n",
        "print(Python)"
      ],
      "metadata": {
        "colab": {
          "base_uri": "https://localhost:8080/"
        },
        "id": "cIBxdhX-Ah-6",
        "outputId": "6a96d3be-bf87-4431-e2fd-955bd1522189"
      },
      "execution_count": 11,
      "outputs": [
        {
          "output_type": "stream",
          "name": "stdout",
          "text": [
            "Python 3.8\n"
          ]
        }
      ]
    },
    {
      "cell_type": "code",
      "source": [
        "Python=\"Python 3\"\n",
        "print(Python)"
      ],
      "metadata": {
        "colab": {
          "base_uri": "https://localhost:8080/"
        },
        "id": "KQzAGDL1Ap_m",
        "outputId": "0a6606be-4575-4d85-e7ed-abba06caad1b"
      },
      "execution_count": 12,
      "outputs": [
        {
          "output_type": "stream",
          "name": "stdout",
          "text": [
            "Python 3\n"
          ]
        }
      ]
    },
    {
      "cell_type": "code",
      "source": [
        "Python1,Python2,Python3=\"Python 1.3\",\"Python 3\", \"Python 3.8\"\n",
        "print(Python1)\n",
        "print(Python2)\n",
        "print(Python3)"
      ],
      "metadata": {
        "colab": {
          "base_uri": "https://localhost:8080/"
        },
        "id": "U3-Qwg1mBfvg",
        "outputId": "0a6ef3be-5a1f-4a48-9e5c-50084bf2d4f6"
      },
      "execution_count": 13,
      "outputs": [
        {
          "output_type": "stream",
          "name": "stdout",
          "text": [
            "Python 1.3\n",
            "Python 3\n",
            "Python 3.8\n"
          ]
        }
      ]
    },
    {
      "cell_type": "code",
      "source": [
        "x=y=z=7\n",
        "print(x)\n",
        "print(y)\n",
        "print(z)"
      ],
      "metadata": {
        "colab": {
          "base_uri": "https://localhost:8080/"
        },
        "id": "W00KOjVVB6Do",
        "outputId": "af722da8-9c98-4df4-8c1b-244cfbcdf057"
      },
      "execution_count": 14,
      "outputs": [
        {
          "output_type": "stream",
          "name": "stdout",
          "text": [
            "7\n",
            "7\n",
            "7\n"
          ]
        }
      ]
    },
    {
      "cell_type": "markdown",
      "source": [
        "# Input Function"
      ],
      "metadata": {
        "id": "lrgnTUvYCAuB"
      }
    },
    {
      "cell_type": "code",
      "source": [
        "df=int(input(\"Enter the number 1: \"))\n",
        "df1=int(input(\"Enter the number 2: \"))\n",
        "\n",
        "add=df+df1\n",
        "print(add)"
      ],
      "metadata": {
        "colab": {
          "base_uri": "https://localhost:8080/"
        },
        "id": "t1Ot_XDCCFZT",
        "outputId": "5884b939-e8f4-44b3-d2b8-fcf97bd028c8"
      },
      "execution_count": 19,
      "outputs": [
        {
          "output_type": "stream",
          "name": "stdout",
          "text": [
            "Enter the number 1: 4\n",
            "Enter the number 2: 4\n",
            "8\n"
          ]
        }
      ]
    },
    {
      "cell_type": "code",
      "source": [
        "#changing the datatype\n",
        "\n",
        "df=4\n",
        "float(df)"
      ],
      "metadata": {
        "colab": {
          "base_uri": "https://localhost:8080/"
        },
        "id": "h3w-izmbDGU9",
        "outputId": "d96df0e0-f0d8-486e-d783-9a6e145696dc"
      },
      "execution_count": 21,
      "outputs": [
        {
          "output_type": "execute_result",
          "data": {
            "text/plain": [
              "4.0"
            ]
          },
          "metadata": {},
          "execution_count": 21
        }
      ]
    }
  ]
}