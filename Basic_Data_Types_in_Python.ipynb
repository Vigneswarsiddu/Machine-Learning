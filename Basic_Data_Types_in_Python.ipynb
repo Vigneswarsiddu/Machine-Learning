{
  "nbformat": 4,
  "nbformat_minor": 0,
  "metadata": {
    "colab": {
      "provenance": [],
      "authorship_tag": "ABX9TyOqegxIoaQlWla6/3IoO5qd",
      "include_colab_link": true
    },
    "kernelspec": {
      "name": "python3",
      "display_name": "Python 3"
    },
    "language_info": {
      "name": "python"
    }
  },
  "cells": [
    {
      "cell_type": "markdown",
      "metadata": {
        "id": "view-in-github",
        "colab_type": "text"
      },
      "source": [
        "<a href=\"https://colab.research.google.com/github/Vigneswarsiddu/Python-Basics-for-Machine-Learning/blob/main/Basic_Data_Types_in_Python.ipynb\" target=\"_parent\"><img src=\"https://colab.research.google.com/assets/colab-badge.svg\" alt=\"Open In Colab\"/></a>"
      ]
    },
    {
      "cell_type": "markdown",
      "source": [
        "**Author: K. VIGNESWAR SIDDU Email ID: vigneswarsiddu07@gmail.com**"
      ],
      "metadata": {
        "id": "45DbE20BEpFQ"
      }
    },
    {
      "cell_type": "markdown",
      "source": [
        "# Basic Data Types in Python\n",
        "1. Integer\n",
        "2. Floating Point\n",
        "3. Complex\n",
        "4. Boolean\n",
        "5. String"
      ],
      "metadata": {
        "id": "uACuj4o0FFFI"
      }
    },
    {
      "cell_type": "code",
      "execution_count": 3,
      "metadata": {
        "colab": {
          "base_uri": "https://localhost:8080/"
        },
        "id": "8S6kHq4bEoCZ",
        "outputId": "ea9b2587-11dc-4b73-9789-dcf868ae8c4b"
      },
      "outputs": [
        {
          "output_type": "stream",
          "name": "stdout",
          "text": [
            "4\n"
          ]
        },
        {
          "output_type": "execute_result",
          "data": {
            "text/plain": [
              "int"
            ]
          },
          "metadata": {},
          "execution_count": 3
        }
      ],
      "source": [
        "#Integers\n",
        "num1=4\n",
        "print(num1)\n",
        "type(num1)"
      ]
    },
    {
      "cell_type": "code",
      "source": [
        "#Floating Points\n",
        "num2=3.14\n",
        "print(num2)\n",
        "type(num2)"
      ],
      "metadata": {
        "colab": {
          "base_uri": "https://localhost:8080/"
        },
        "id": "tMZ-yzAXF4rJ",
        "outputId": "12eb9830-80c3-45f9-e8d7-80354e5ccb2b"
      },
      "execution_count": 4,
      "outputs": [
        {
          "output_type": "stream",
          "name": "stdout",
          "text": [
            "3.14\n"
          ]
        },
        {
          "output_type": "execute_result",
          "data": {
            "text/plain": [
              "float"
            ]
          },
          "metadata": {},
          "execution_count": 4
        }
      ]
    },
    {
      "cell_type": "code",
      "source": [
        "#Complex Numbers\n",
        "# Real & Imaginary\n",
        "\n",
        "num3=7+5j\n",
        "print(num3)\n",
        "type(num3)"
      ],
      "metadata": {
        "colab": {
          "base_uri": "https://localhost:8080/"
        },
        "id": "VPcW56FXGPyV",
        "outputId": "74ea0f43-29a2-4b43-d1b4-dd38a7147807"
      },
      "execution_count": 5,
      "outputs": [
        {
          "output_type": "stream",
          "name": "stdout",
          "text": [
            "(7+5j)\n"
          ]
        },
        {
          "output_type": "execute_result",
          "data": {
            "text/plain": [
              "complex"
            ]
          },
          "metadata": {},
          "execution_count": 5
        }
      ]
    },
    {
      "cell_type": "markdown",
      "source": [
        "# Conversion of Data Type"
      ],
      "metadata": {
        "id": "5mzbtRbGGhMp"
      }
    },
    {
      "cell_type": "code",
      "source": [
        "#int to float\n",
        "a=10\n",
        "b=11\n",
        "print(a,b)\n",
        "type(a)"
      ],
      "metadata": {
        "colab": {
          "base_uri": "https://localhost:8080/"
        },
        "id": "o8xPxrKMGlGk",
        "outputId": "93a20c92-1973-4f89-ecaf-a847ba04fd79"
      },
      "execution_count": 8,
      "outputs": [
        {
          "output_type": "stream",
          "name": "stdout",
          "text": [
            "10 11\n"
          ]
        },
        {
          "output_type": "execute_result",
          "data": {
            "text/plain": [
              "int"
            ]
          },
          "metadata": {},
          "execution_count": 8
        }
      ]
    },
    {
      "cell_type": "code",
      "source": [
        "print(float(a))\n",
        "type(a)"
      ],
      "metadata": {
        "colab": {
          "base_uri": "https://localhost:8080/"
        },
        "id": "xXmbAOm8Gx4O",
        "outputId": "c467b998-49d7-4413-b349-34d1dd34abe3"
      },
      "execution_count": 11,
      "outputs": [
        {
          "output_type": "stream",
          "name": "stdout",
          "text": [
            "10.0\n"
          ]
        },
        {
          "output_type": "execute_result",
          "data": {
            "text/plain": [
              "int"
            ]
          },
          "metadata": {},
          "execution_count": 11
        }
      ]
    },
    {
      "cell_type": "code",
      "source": [
        "#float to int\n",
        "a=3.14\n",
        "type(a)"
      ],
      "metadata": {
        "colab": {
          "base_uri": "https://localhost:8080/"
        },
        "id": "Yn6DkWS4G54i",
        "outputId": "0127f09c-b78e-4062-8c35-3a13b38a714d"
      },
      "execution_count": 12,
      "outputs": [
        {
          "output_type": "execute_result",
          "data": {
            "text/plain": [
              "float"
            ]
          },
          "metadata": {},
          "execution_count": 12
        }
      ]
    },
    {
      "cell_type": "code",
      "source": [
        "type(int(a))"
      ],
      "metadata": {
        "colab": {
          "base_uri": "https://localhost:8080/"
        },
        "id": "lYnxdrGqHBvb",
        "outputId": "f863116b-be84-4225-ec45-4babb8ae1a1f"
      },
      "execution_count": 13,
      "outputs": [
        {
          "output_type": "execute_result",
          "data": {
            "text/plain": [
              "int"
            ]
          },
          "metadata": {},
          "execution_count": 13
        }
      ]
    },
    {
      "cell_type": "code",
      "source": [
        "b=int(a)\n",
        "print(b)\n",
        "type(b)"
      ],
      "metadata": {
        "colab": {
          "base_uri": "https://localhost:8080/"
        },
        "id": "VPi9oteMHLUK",
        "outputId": "e0e12651-05ae-4317-a6c3-02960f1e73d7"
      },
      "execution_count": 14,
      "outputs": [
        {
          "output_type": "stream",
          "name": "stdout",
          "text": [
            "3\n"
          ]
        },
        {
          "output_type": "execute_result",
          "data": {
            "text/plain": [
              "int"
            ]
          },
          "metadata": {},
          "execution_count": 14
        }
      ]
    },
    {
      "cell_type": "markdown",
      "source": [
        "# Boolean"
      ],
      "metadata": {
        "id": "TAf0TJ8mHWH6"
      }
    },
    {
      "cell_type": "code",
      "source": [
        "a=True\n",
        "type(a)\n",
        "print(a)"
      ],
      "metadata": {
        "colab": {
          "base_uri": "https://localhost:8080/"
        },
        "id": "bDMWXRy2HXUC",
        "outputId": "bc2f2a2e-ce7b-4966-9e29-39784912dff0"
      },
      "execution_count": 16,
      "outputs": [
        {
          "output_type": "stream",
          "name": "stdout",
          "text": [
            "True\n"
          ]
        }
      ]
    },
    {
      "cell_type": "code",
      "source": [
        "b=False\n",
        "type(b)\n",
        "print(b)"
      ],
      "metadata": {
        "colab": {
          "base_uri": "https://localhost:8080/"
        },
        "id": "q5ntRKf4HiG3",
        "outputId": "8dc96de5-cbe7-4d24-8f49-e23f273485e0"
      },
      "execution_count": 17,
      "outputs": [
        {
          "output_type": "stream",
          "name": "stdout",
          "text": [
            "False\n"
          ]
        }
      ]
    },
    {
      "cell_type": "code",
      "source": [
        "#simple program to check\n",
        "a=int(input(\"enter the number: \"))\n",
        "if(a<5):\n",
        "  print(True)\n",
        "else:\n",
        "  print(False)"
      ],
      "metadata": {
        "colab": {
          "base_uri": "https://localhost:8080/"
        },
        "id": "-nkvMvpDHqnf",
        "outputId": "89ce1553-3d5f-4766-c2d6-7dc6a979682b"
      },
      "execution_count": 20,
      "outputs": [
        {
          "output_type": "stream",
          "name": "stdout",
          "text": [
            "enter the number: 3\n",
            "True\n"
          ]
        }
      ]
    },
    {
      "cell_type": "code",
      "source": [
        "a=5<7\n",
        "print(a)"
      ],
      "metadata": {
        "colab": {
          "base_uri": "https://localhost:8080/"
        },
        "id": "AqSm3tn7IJPu",
        "outputId": "a8a5a4ca-5740-4c30-e579-7468313e4da5"
      },
      "execution_count": 21,
      "outputs": [
        {
          "output_type": "stream",
          "name": "stdout",
          "text": [
            "True\n"
          ]
        }
      ]
    },
    {
      "cell_type": "code",
      "source": [
        "a=7>5\n",
        "print(a)"
      ],
      "metadata": {
        "colab": {
          "base_uri": "https://localhost:8080/"
        },
        "id": "-aMtZuIpIP6I",
        "outputId": "40effcec-5e46-429f-a367-f5896c50fae1"
      },
      "execution_count": 22,
      "outputs": [
        {
          "output_type": "stream",
          "name": "stdout",
          "text": [
            "True\n"
          ]
        }
      ]
    },
    {
      "cell_type": "markdown",
      "source": [
        "# String"
      ],
      "metadata": {
        "id": "qfCAv32IIYT0"
      }
    },
    {
      "cell_type": "code",
      "source": [
        "Python=\"Hello Python 3.8\"\n",
        "print(Python)\n",
        "type(Python)\n"
      ],
      "metadata": {
        "colab": {
          "base_uri": "https://localhost:8080/"
        },
        "id": "wS5riVZtIZrS",
        "outputId": "de9680bd-93c4-4c5b-afef-a6a77ba55766"
      },
      "execution_count": 23,
      "outputs": [
        {
          "output_type": "stream",
          "name": "stdout",
          "text": [
            "Hello Python 3.8\n"
          ]
        },
        {
          "output_type": "execute_result",
          "data": {
            "text/plain": [
              "str"
            ]
          },
          "metadata": {},
          "execution_count": 23
        }
      ]
    },
    {
      "cell_type": "code",
      "source": [
        "Python=\"Python 3.8 \" * 5\n",
        "print(Python)"
      ],
      "metadata": {
        "colab": {
          "base_uri": "https://localhost:8080/"
        },
        "id": "WJQUGcoVIndC",
        "outputId": "6179e425-e190-4d78-984e-b340a55bfa7d"
      },
      "execution_count": 25,
      "outputs": [
        {
          "output_type": "stream",
          "name": "stdout",
          "text": [
            "Python 3.8 Python 3.8 Python 3.8 Python 3.8 Python 3.8 \n"
          ]
        }
      ]
    },
    {
      "cell_type": "code",
      "source": [
        "a=\"Python \"\n",
        "b=\"Programming\"\n",
        "print(a + b)"
      ],
      "metadata": {
        "colab": {
          "base_uri": "https://localhost:8080/"
        },
        "id": "I2877rqwKw7_",
        "outputId": "2db27025-355c-4327-8b01-74ae7bbf5c2b"
      },
      "execution_count": 37,
      "outputs": [
        {
          "output_type": "stream",
          "name": "stdout",
          "text": [
            "Python Programming\n"
          ]
        }
      ]
    },
    {
      "cell_type": "markdown",
      "source": [
        "# Slicing"
      ],
      "metadata": {
        "id": "cghk5--SJz8l"
      }
    },
    {
      "cell_type": "code",
      "source": [
        "word=\"Python Programming\"\n",
        "print(word[2:8])\n",
        "# -1"
      ],
      "metadata": {
        "colab": {
          "base_uri": "https://localhost:8080/"
        },
        "id": "KLWneI0ZI1qc",
        "outputId": "a186b890-133b-407f-d2ff-3ec0bb7a7d26"
      },
      "execution_count": 31,
      "outputs": [
        {
          "output_type": "stream",
          "name": "stdout",
          "text": [
            "thon P\n"
          ]
        }
      ]
    },
    {
      "cell_type": "code",
      "source": [
        "# two step\n",
        "word=\"Programming\"\n",
        "print(word[0:10+1:2])"
      ],
      "metadata": {
        "colab": {
          "base_uri": "https://localhost:8080/"
        },
        "id": "jrHXUJm8JwtD",
        "outputId": "890f6d2c-47ca-4887-aa6a-a44d6f2909ad"
      },
      "execution_count": 32,
      "outputs": [
        {
          "output_type": "stream",
          "name": "stdout",
          "text": [
            "Pormig\n"
          ]
        }
      ]
    }
  ]
}