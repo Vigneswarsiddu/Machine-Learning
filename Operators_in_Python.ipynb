{
  "nbformat": 4,
  "nbformat_minor": 0,
  "metadata": {
    "colab": {
      "provenance": [],
      "authorship_tag": "ABX9TyMjiShVaNhWwcC/DgjYLsWt",
      "include_colab_link": true
    },
    "kernelspec": {
      "name": "python3",
      "display_name": "Python 3"
    },
    "language_info": {
      "name": "python"
    }
  },
  "cells": [
    {
      "cell_type": "markdown",
      "metadata": {
        "id": "view-in-github",
        "colab_type": "text"
      },
      "source": [
        "<a href=\"https://colab.research.google.com/github/Vigneswarsiddu/Python-Basics-for-Machine-Learning/blob/main/Operators_in_Python.ipynb\" target=\"_parent\"><img src=\"https://colab.research.google.com/assets/colab-badge.svg\" alt=\"Open In Colab\"/></a>"
      ]
    },
    {
      "cell_type": "markdown",
      "source": [
        "**Author: K. VIGNESWAR SIDDU Email ID: vigneswarsiddu07@gmail.com**"
      ],
      "metadata": {
        "id": "-GTjz6BaMN_1"
      }
    },
    {
      "cell_type": "markdown",
      "source": [
        "Operators in Python:\n",
        "1. Arithmetic Operators\n",
        "2. Assignment Operators\n",
        "3. Comparision Operators\n",
        "4. Logical Operators\n",
        "5. Identify Operators\n",
        "6. Membership Operators\n"
      ],
      "metadata": {
        "id": "LtTCn_Yd2A2x"
      }
    },
    {
      "cell_type": "markdown",
      "source": [
        "# 1. Arthemetic Operators"
      ],
      "metadata": {
        "id": "vens9WXJ28nF"
      }
    },
    {
      "cell_type": "code",
      "execution_count": 5,
      "metadata": {
        "colab": {
          "base_uri": "https://localhost:8080/"
        },
        "id": "JIUUM6Wy1_rc",
        "outputId": "81bb68e2-7814-4323-ac23-b94564bffe6c"
      },
      "outputs": [
        {
          "output_type": "stream",
          "name": "stdout",
          "text": [
            "sum is =  30\n",
            "Difference is =  -10\n",
            "Product is = 200\n",
            "Quotient is = 0.5\n",
            "Remainder is = 10\n",
            "Power is = 100000000000000000000\n"
          ]
        }
      ],
      "source": [
        "a=10\n",
        "b=20\n",
        "\n",
        "#addition\n",
        "add=a+b\n",
        "print(\"sum is = \",add)\n",
        "\n",
        "#subtraction\n",
        "sub=a-b\n",
        "print(\"Difference is = \",sub)\n",
        "\n",
        "#Multiplication\n",
        "prod=a*b\n",
        "print(\"Product is =\",prod)\n",
        "\n",
        "#division\n",
        "divi=a/b\n",
        "print(\"Quotient is =\",divi)\n",
        "\n",
        "#modulus #Remainder\n",
        "modu=a%b\n",
        "print(\"Remainder is =\",modu)\n",
        "\n",
        "#exponential represents **\n",
        "exp=a**b # 10^20\n",
        "print(\"Power is =\",exp)\n"
      ]
    },
    {
      "cell_type": "markdown",
      "source": [
        "# 2. Assignment Operators"
      ],
      "metadata": {
        "id": "ypSrLk4O4siN"
      }
    },
    {
      "cell_type": "code",
      "source": [
        "a=10\n",
        "print(a)\n",
        "b=5\n",
        "b+=5 #b=b+5; initially b=5 then updated b=5+5=10\n",
        "print(b)"
      ],
      "metadata": {
        "colab": {
          "base_uri": "https://localhost:8080/"
        },
        "id": "mm1ZYVvI4yTv",
        "outputId": "badba303-c906-4aa9-94ff-06c0243423e6"
      },
      "execution_count": 6,
      "outputs": [
        {
          "output_type": "stream",
          "name": "stdout",
          "text": [
            "10\n",
            "10\n"
          ]
        }
      ]
    },
    {
      "cell_type": "markdown",
      "source": [
        "# 3. Comparable Operators"
      ],
      "metadata": {
        "id": "tg473z1F54Ay"
      }
    },
    {
      "cell_type": "code",
      "source": [
        "a=10\n",
        "b=20\n",
        "print(a==b)\n",
        "print(a!=b)\n",
        "print(a<b)\n",
        "print(a>b)"
      ],
      "metadata": {
        "colab": {
          "base_uri": "https://localhost:8080/"
        },
        "id": "Aks6zZGL57PU",
        "outputId": "ad4251f6-7ea9-4ee4-d190-308ef4d5f525"
      },
      "execution_count": 9,
      "outputs": [
        {
          "output_type": "stream",
          "name": "stdout",
          "text": [
            "False\n",
            "True\n",
            "True\n",
            "False\n"
          ]
        }
      ]
    },
    {
      "cell_type": "markdown",
      "source": [
        "# 4. Logical Operators"
      ],
      "metadata": {
        "id": "DP6-IQZe69QX"
      }
    },
    {
      "cell_type": "markdown",
      "source": [
        "and , or, not"
      ],
      "metadata": {
        "id": "I5oSSNj17GXm"
      }
    },
    {
      "cell_type": "code",
      "source": [
        "a=10\n",
        "print(a>20 and a>5)\n",
        "print(a>20 or a>5)\n",
        "print(not(a>5)) # Its true but Not gives you False"
      ],
      "metadata": {
        "colab": {
          "base_uri": "https://localhost:8080/"
        },
        "id": "4OoZ6JnA7AJ0",
        "outputId": "389e2a05-01fc-421a-c261-c6d023c2a974"
      },
      "execution_count": 12,
      "outputs": [
        {
          "output_type": "stream",
          "name": "stdout",
          "text": [
            "False\n",
            "True\n",
            "False\n"
          ]
        }
      ]
    },
    {
      "cell_type": "markdown",
      "source": [
        "# 5. Identity Operators"
      ],
      "metadata": {
        "id": "72fO1mGu7_uv"
      }
    },
    {
      "cell_type": "markdown",
      "source": [
        "is,\n",
        "is not"
      ],
      "metadata": {
        "id": "pNnj9uKN_O2W"
      }
    },
    {
      "cell_type": "code",
      "source": [
        "x=10\n",
        "y=10\n",
        "print(x is y)\n",
        "print(x is not y)"
      ],
      "metadata": {
        "colab": {
          "base_uri": "https://localhost:8080/"
        },
        "id": "3GbL0hgB8tKF",
        "outputId": "3ec38557-6cb1-41fa-af6c-a73948099443"
      },
      "execution_count": 14,
      "outputs": [
        {
          "output_type": "stream",
          "name": "stdout",
          "text": [
            "True\n",
            "False\n"
          ]
        }
      ]
    },
    {
      "cell_type": "markdown",
      "source": [
        "# 6. Membership Operator"
      ],
      "metadata": {
        "id": "ptaul0YA_gvE"
      }
    },
    {
      "cell_type": "markdown",
      "source": [
        "It checks whether the value it belong to list\n",
        "in, not in"
      ],
      "metadata": {
        "id": "XeSN6pZu_rUf"
      }
    },
    {
      "cell_type": "code",
      "source": [
        "a=4\n",
        "b=7\n",
        "c=[1,2,3,4,5,6,7,8,9]\n",
        "print(a in c)\n",
        "print(b in c)\n",
        "print(b not in c)"
      ],
      "metadata": {
        "colab": {
          "base_uri": "https://localhost:8080/"
        },
        "id": "J0NvqpIu_z69",
        "outputId": "e7765d67-3e1a-460a-d8d8-e3c0b876a280"
      },
      "execution_count": 15,
      "outputs": [
        {
          "output_type": "stream",
          "name": "stdout",
          "text": [
            "True\n",
            "True\n",
            "False\n"
          ]
        }
      ]
    }
  ]
}