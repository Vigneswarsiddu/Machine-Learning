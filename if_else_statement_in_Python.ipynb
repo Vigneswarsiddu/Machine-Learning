{
  "nbformat": 4,
  "nbformat_minor": 0,
  "metadata": {
    "colab": {
      "provenance": [],
      "authorship_tag": "ABX9TyNQQc/jUAOCv1si5zSeQaS1",
      "include_colab_link": true
    },
    "kernelspec": {
      "name": "python3",
      "display_name": "Python 3"
    },
    "language_info": {
      "name": "python"
    }
  },
  "cells": [
    {
      "cell_type": "markdown",
      "metadata": {
        "id": "view-in-github",
        "colab_type": "text"
      },
      "source": [
        "<a href=\"https://colab.research.google.com/github/Vigneswarsiddu/Python-Basics-for-Machine-Learning/blob/main/if_else_statement_in_Python.ipynb\" target=\"_parent\"><img src=\"https://colab.research.google.com/assets/colab-badge.svg\" alt=\"Open In Colab\"/></a>"
      ]
    },
    {
      "cell_type": "markdown",
      "source": [
        "**Author: K. VIGNESWAR SIDDU Email ID: vigneswarsiddu07@gmail.com**"
      ],
      "metadata": {
        "id": "-GTjz6BaMN_1"
      }
    },
    {
      "cell_type": "markdown",
      "source": [
        "Simple if else statement"
      ],
      "metadata": {
        "id": "rMK_IyulHfvS"
      }
    },
    {
      "cell_type": "code",
      "execution_count": 2,
      "metadata": {
        "colab": {
          "base_uri": "https://localhost:8080/"
        },
        "id": "t1Mi6LpoHebH",
        "outputId": "a783b10f-692a-43b7-dff5-e4183a18762c"
      },
      "outputs": [
        {
          "output_type": "stream",
          "name": "stdout",
          "text": [
            "x is less than y\n"
          ]
        }
      ],
      "source": [
        "x=10\n",
        "y=20\n",
        "if(x>y):\n",
        "  print(\"x is greater than y\")\n",
        "else:\n",
        "  print(\"x is less than y\")"
      ]
    },
    {
      "cell_type": "code",
      "source": [
        "x=int(input())\n",
        "y=int(input())\n",
        "if(x>y):\n",
        "  print(\"greater\")\n",
        "else:\n",
        "  print(\"lessthan\")"
      ],
      "metadata": {
        "colab": {
          "base_uri": "https://localhost:8080/"
        },
        "id": "sE4A5GkAT5h0",
        "outputId": "0b47b918-2b45-4aff-a216-9a5b7f162a4a"
      },
      "execution_count": 6,
      "outputs": [
        {
          "output_type": "stream",
          "name": "stdout",
          "text": [
            "3\n",
            "4\n",
            "lessthan\n"
          ]
        }
      ]
    },
    {
      "cell_type": "markdown",
      "source": [
        "else if - elif statement"
      ],
      "metadata": {
        "id": "16uXsE44UOX9"
      }
    },
    {
      "cell_type": "code",
      "source": [
        "# Input Function\n",
        "x=int(input())\n",
        "y=int(input())\n",
        "if(x>y):\n",
        "  print(\"x is greater than y\")\n",
        "elif(x<y):\n",
        "  print(\"x is less than y\")\n",
        "else:\n",
        "  print(\"x is equal to y\")"
      ],
      "metadata": {
        "colab": {
          "base_uri": "https://localhost:8080/"
        },
        "id": "7RN-avQhIFXI",
        "outputId": "ff3d202e-8135-494c-fea6-d666bb5b18b1"
      },
      "execution_count": 5,
      "outputs": [
        {
          "output_type": "stream",
          "name": "stdout",
          "text": [
            "12\n",
            "10\n",
            "x is greater than y\n"
          ]
        }
      ]
    },
    {
      "cell_type": "markdown",
      "source": [
        "nested if statement"
      ],
      "metadata": {
        "id": "iSEO47r4UXkH"
      }
    },
    {
      "cell_type": "code",
      "source": [
        "#inside if statement\n",
        "a=int(input(\"Enter a: \"))\n",
        "b=int(input(\"Enter b: \"))\n",
        "c=int(input(\"Enter c: \"))\n",
        "if(a>b):\n",
        "  if(a>c):\n",
        "    print(\"a is the greatest number\")\n",
        "  else:\n",
        "    print(\"c is the greatest number\")\n",
        "else:\n",
        "  if(b>c):\n",
        "    print(\"b is greatest number\")\n",
        "  else:\n",
        "    print(\"c is greatest number\")\n",
        "\n"
      ],
      "metadata": {
        "colab": {
          "base_uri": "https://localhost:8080/"
        },
        "id": "xtJIJqOuUZtM",
        "outputId": "6efe5e13-c3eb-4636-f2d6-c844dfef20a4"
      },
      "execution_count": 7,
      "outputs": [
        {
          "output_type": "stream",
          "name": "stdout",
          "text": [
            "Enter a: 12\n",
            "Enter b: 34\n",
            "Enter c: 45\n",
            "c is greatest number\n"
          ]
        }
      ]
    }
  ]
}